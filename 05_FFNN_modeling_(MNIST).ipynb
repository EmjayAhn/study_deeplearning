{
  "nbformat": 4,
  "nbformat_minor": 0,
  "metadata": {
    "colab": {
      "name": "05_FFNN modeling (MNIST)",
      "version": "0.3.2",
      "provenance": [],
      "collapsed_sections": [],
      "include_colab_link": true
    },
    "kernelspec": {
      "name": "python3",
      "display_name": "Python 3"
    },
    "accelerator": "GPU"
  },
  "cells": [
    {
      "cell_type": "markdown",
      "metadata": {
        "id": "view-in-github",
        "colab_type": "text"
      },
      "source": [
        "<a href=\"https://colab.research.google.com/github/EmjayAhn/study_deeplearning/blob/master/05_FFNN_modeling_(MNIST).ipynb\" target=\"_parent\"><img src=\"https://colab.research.google.com/assets/colab-badge.svg\" alt=\"Open In Colab\"/></a>"
      ]
    },
    {
      "metadata": {
        "id": "jHGYpjmGpydJ",
        "colab_type": "code",
        "colab": {}
      },
      "cell_type": "code",
      "source": [
        "import tensorflow as tf\n",
        "import matplotlib.pyplot as plt\n",
        "import numpy as np\n",
        "tf.enable_eager_execution()"
      ],
      "execution_count": 0,
      "outputs": []
    },
    {
      "metadata": {
        "id": "I2iGD5Ti_y1l",
        "colab_type": "text"
      },
      "cell_type": "markdown",
      "source": [
        "## MNIST 학습 시키기\n"
      ]
    },
    {
      "metadata": {
        "id": "v5csqbrg5C3l",
        "colab_type": "text"
      },
      "cell_type": "markdown",
      "source": [
        "이번 예제에서는 MNIST를 학습시켜본다. <br>\n",
        "MNIST라고 하면 손글씨 이미지라고 생각하면 쉽다. <br>\n",
        "0 ~ 9까지 적혀있는 손글씨 이미지를 숫자별로 분류하면 된다. <br><br>\n",
        "이 예제에서는 FFNN을 이용하여 MNIST 이미지를 분류해볼 것이다."
      ]
    },
    {
      "metadata": {
        "id": "3560rcXW_r13",
        "colab_type": "text"
      },
      "cell_type": "markdown",
      "source": [
        "### example 1"
      ]
    },
    {
      "metadata": {
        "id": "Tq7xcrcp5bZi",
        "colab_type": "text"
      },
      "cell_type": "markdown",
      "source": [
        "MNIST는 tf.keras 내부 API를 이용하여 다운받을 수 있다. <br>\n",
        "이렇게 데이터를 준비하면 바로 모델을 설계하면 된다. <br><br>\n",
        "\n",
        "MNIST는 학습 데이터와 테스트 데이터 (validation set이라고 봐도 무방하다)를 별도로 제공한다.<br>\n",
        "학습 데이터는 학습용으로 사용하고 validation set은 evaluation 할 때 사용하도록 한다.\n"
      ]
    },
    {
      "metadata": {
        "id": "3YoBXOhCvEre",
        "colab_type": "code",
        "outputId": "eb254459-3f85-42ea-c77a-eeaa0dd0bd30",
        "colab": {
          "base_uri": "https://localhost:8080/",
          "height": 85
        }
      },
      "cell_type": "code",
      "source": [
        "(x_train, y_train), (x_test, y_test) = tf.keras.datasets.mnist.load_data()\n",
        "x_train, x_test = x_train/255., x_test/255.\n",
        "\n",
        "print(x_train.shape, y_train.shape)\n",
        "print(x_test.shape, y_test.shape)"
      ],
      "execution_count": 0,
      "outputs": [
        {
          "output_type": "stream",
          "text": [
            "Downloading data from https://storage.googleapis.com/tensorflow/tf-keras-datasets/mnist.npz\n",
            "11493376/11490434 [==============================] - 0s 0us/step\n",
            "(60000, 28, 28) (60000,)\n",
            "(10000, 28, 28) (10000,)\n"
          ],
          "name": "stdout"
        }
      ]
    },
    {
      "metadata": {
        "id": "0S3c0PHd5kVd",
        "colab_type": "code",
        "outputId": "5a5cca0b-04ee-4aaa-c11c-f1117b9f137b",
        "colab": {
          "base_uri": "https://localhost:8080/",
          "height": 401
        }
      },
      "cell_type": "code",
      "source": [
        "plt.figure(figsize=(20,10))\n",
        "columns = 5\n",
        "images = x_train[:10]\n",
        "for i, image in enumerate(images):\n",
        "    plt.subplot(len(images) / columns + 1, columns, i + 1)\n",
        "    plt.imshow(image)"
      ],
      "execution_count": 0,
      "outputs": [
        {
          "output_type": "display_data",
          "data": {
            "image/png": "[encoded data removed]",
            "text/plain": [
              "<Figure size 1440x720 with 10 Axes>"
            ]
          },
          "metadata": {
            "tags": []
          }
        }
      ]
    },
    {
      "metadata": {
        "id": "B4o3dds06myb",
        "colab_type": "text"
      },
      "cell_type": "markdown",
      "source": [
        "다른 부분은 이전 모델과 거의 흡사하지만 multi-class 라는 점에서 차이가 있다. <br>\n",
        "기존 모델에서는 출력이 1개인 output layer를 다뤘지만 여기서는 output이 10개 이므로, binary classifier인 sigmoid함수는 적절하지 않다. <br><br>\n",
        "\n",
        "여기서는 softmax 함수를 활용한다.\n",
        "\n",
        "\\begin{equation}\n",
        "  \\frac{e^{wx}}{\\sum_{k=1}^{K}e^{wx}}\n",
        "\\end{equation}\n",
        "\n",
        "<br>\n",
        "\n",
        "간단하게 말하면 softmax는 sigmoid를 normalize 한 형태라고 볼 수도 있다.<br>\n",
        "이 때 loss에도 다음과 같은 변화가 생긴다.\n",
        "\n",
        "\\begin{equation}\n",
        "  \\textbf{L} = \\sum_{i = 1}^{n}[-y_i\\log{\\hat{y}_i}]\n",
        "\\end{equation}\n",
        "\n",
        "이는 tf.keras에서 sparse_categorical_crossentropy로 정의된다. <br>\n",
        "이에 따라 accuracy도 binary accuracy가 아닌 sparse_categorical_accuracy를 써야한다. <br> \n",
        "기능은 동일하지만 binary와 categorical 은 연산에 있어 약간의 차이를 보인다."
      ]
    },
    {
      "metadata": {
        "id": "EGWhWP1DvvfP",
        "colab_type": "code",
        "outputId": "a660cf26-8c16-4d68-8cab-322d80bdb89b",
        "colab": {
          "base_uri": "https://localhost:8080/",
          "height": 374
        }
      },
      "cell_type": "code",
      "source": [
        "inputs = tf.keras.Input(shape=x_train.shape[1:])\n",
        "\n",
        "flat = tf.keras.layers.Flatten()(inputs)\n",
        "x = tf.keras.layers.Dense(10, activation=tf.nn.relu)(flat)\n",
        "x = tf.keras.layers.Dense(10, activation=tf.nn.relu)(x)\n",
        "out = tf.keras.layers.Dense(10, activation=tf.nn.softmax)(x)\n",
        "\n",
        "model = tf.keras.Model(inputs=inputs, outputs=out)\n",
        "model.compile(optimizer=tf.train.GradientDescentOptimizer(1e-2),\n",
        "             loss=tf.keras.losses.sparse_categorical_crossentropy,\n",
        "             metrics=[tf.keras.metrics.sparse_categorical_accuracy])\n",
        "\n",
        "model.fit(x_train, y_train, epochs=10, batch_size=32)"
      ],
      "execution_count": 0,
      "outputs": [
        {
          "output_type": "stream",
          "text": [
            "Epoch 1/10\n",
            "60000/60000 [==============================] - 6s 93us/step - loss: 1.0291 - sparse_categorical_accuracy: 0.6818\n",
            "Epoch 2/10\n",
            "60000/60000 [==============================] - 5s 90us/step - loss: 0.4418 - sparse_categorical_accuracy: 0.8719\n",
            "Epoch 3/10\n",
            "60000/60000 [==============================] - 5s 90us/step - loss: 0.3757 - sparse_categorical_accuracy: 0.8900\n",
            "Epoch 4/10\n",
            "60000/60000 [==============================] - 5s 91us/step - loss: 0.3400 - sparse_categorical_accuracy: 0.9012\n",
            "Epoch 5/10\n",
            "60000/60000 [==============================] - 5s 89us/step - loss: 0.3139 - sparse_categorical_accuracy: 0.9092\n",
            "Epoch 6/10\n",
            "60000/60000 [==============================] - 5s 89us/step - loss: 0.2907 - sparse_categorical_accuracy: 0.9160\n",
            "Epoch 7/10\n",
            "60000/60000 [==============================] - 5s 90us/step - loss: 0.2728 - sparse_categorical_accuracy: 0.9224\n",
            "Epoch 8/10\n",
            "60000/60000 [==============================] - 5s 90us/step - loss: 0.2604 - sparse_categorical_accuracy: 0.9250\n",
            "Epoch 9/10\n",
            "60000/60000 [==============================] - 5s 90us/step - loss: 0.2488 - sparse_categorical_accuracy: 0.9282\n",
            "Epoch 10/10\n",
            "60000/60000 [==============================] - 5s 89us/step - loss: 0.2399 - sparse_categorical_accuracy: 0.9315\n"
          ],
          "name": "stdout"
        },
        {
          "output_type": "execute_result",
          "data": {
            "text/plain": [
              "<tensorflow.python.keras.callbacks.History at 0x7f4eb489b8d0>"
            ]
          },
          "metadata": {
            "tags": []
          },
          "execution_count": 38
        }
      ]
    },
    {
      "metadata": {
        "id": "A-1kd9O29ebf",
        "colab_type": "text"
      },
      "cell_type": "markdown",
      "source": [
        "트레이닝이 완료되면 model 객체의 evaluate method를 통해 evaluation을 수행할 수 있다."
      ]
    },
    {
      "metadata": {
        "id": "2nJLHW9TyMbq",
        "colab_type": "code",
        "outputId": "1f6fedd2-21d5-4588-e1db-f6fbae097caa",
        "colab": {
          "base_uri": "https://localhost:8080/",
          "height": 51
        }
      },
      "cell_type": "code",
      "source": [
        "eval = model.evaluate(x_test, y_test)\n",
        "print(eval)"
      ],
      "execution_count": 0,
      "outputs": [
        {
          "output_type": "stream",
          "text": [
            "10000/10000 [==============================] - 1s 71us/step\n",
            "[0.24817505538016557, 0.9292]\n"
          ],
          "name": "stdout"
        }
      ]
    },
    {
      "metadata": {
        "id": "uHcD2wfn5J_H",
        "colab_type": "code",
        "outputId": "9c44fdb7-fede-41dc-a9fa-28457643f45a",
        "colab": {
          "base_uri": "https://localhost:8080/",
          "height": 187
        }
      },
      "cell_type": "code",
      "source": [
        "pred = model.predict(x_test[:10])\n",
        "\n",
        "for l, p in list(zip(y_test, pred)):\n",
        "  print(l, p.argmax())"
      ],
      "execution_count": 0,
      "outputs": [
        {
          "output_type": "stream",
          "text": [
            "7 7\n",
            "2 2\n",
            "1 1\n",
            "0 0\n",
            "4 4\n",
            "1 1\n",
            "4 4\n",
            "9 9\n",
            "5 6\n",
            "9 9\n"
          ],
          "name": "stdout"
        }
      ]
    },
    {
      "metadata": {
        "id": "r670Ox7H_1K2",
        "colab_type": "text"
      },
      "cell_type": "markdown",
      "source": [
        "#### example 2"
      ]
    },
    {
      "metadata": {
        "id": "adTeea5m9mHQ",
        "colab_type": "text"
      },
      "cell_type": "markdown",
      "source": [
        "일반적으로 evaluate은 training과 함께 수행하는 경우가 많으므로 다음과 같이 fit method에서 validation set을 직접 넣어주어 training간 evaluation을 동시에 해줄 수 있다."
      ]
    },
    {
      "metadata": {
        "id": "drhycWYH_2rI",
        "colab_type": "code",
        "outputId": "cf69ff9d-385e-43fc-afd1-ff4bb1a47819",
        "colab": {
          "base_uri": "https://localhost:8080/",
          "height": 51
        }
      },
      "cell_type": "code",
      "source": [
        "(x_train, y_train), (x_test, y_test) = tf.keras.datasets.mnist.load_data()\n",
        "x_train, x_test = x_train/255., x_test/255.\n",
        "\n",
        "print(x_train.shape, y_train.shape)\n",
        "print(x_test.shape, y_test.shape)"
      ],
      "execution_count": 0,
      "outputs": [
        {
          "output_type": "stream",
          "text": [
            "(60000, 28, 28) (60000,)\n",
            "(10000, 28, 28) (10000,)\n"
          ],
          "name": "stdout"
        }
      ]
    },
    {
      "metadata": {
        "id": "aevojBLs_5aS",
        "colab_type": "code",
        "outputId": "f939e335-c364-4324-d588-9cf8fd6cfa72",
        "colab": {
          "base_uri": "https://localhost:8080/",
          "height": 411
        }
      },
      "cell_type": "code",
      "source": [
        "inputs = tf.keras.Input(shape=x_train.shape[1:])\n",
        "\n",
        "flat = tf.keras.layers.Flatten()(inputs)\n",
        "x = tf.keras.layers.Dense(10, activation=tf.nn.relu)(flat)\n",
        "x = tf.keras.layers.Dense(10, activation=tf.nn.relu)(x)\n",
        "out = tf.keras.layers.Dense(10, activation=tf.nn.softmax)(x)\n",
        "\n",
        "model = tf.keras.Model(inputs=inputs, outputs=out)\n",
        "model.compile(optimizer=tf.train.GradientDescentOptimizer(1e-2),\n",
        "             loss=tf.keras.losses.sparse_categorical_crossentropy,\n",
        "             metrics=[tf.keras.metrics.sparse_categorical_accuracy])\n",
        "\n",
        "model.fit(x_train, \n",
        "          y_train, \n",
        "          batch_size=32, \n",
        "          epochs=10, \n",
        "          validation_data=(x_test, y_test))"
      ],
      "execution_count": 0,
      "outputs": [
        {
          "output_type": "stream",
          "text": [
            "Train on 60000 samples, validate on 10000 samples\n",
            "Epoch 1/10\n",
            "60000/60000 [==============================] - 6s 104us/step - loss: 1.1967 - sparse_categorical_accuracy: 0.6133 - val_loss: 0.6232 - val_sparse_categorical_accuracy: 0.8079\n",
            "Epoch 2/10\n",
            "60000/60000 [==============================] - 6s 99us/step - loss: 0.5650 - sparse_categorical_accuracy: 0.8280 - val_loss: 0.4686 - val_sparse_categorical_accuracy: 0.8546\n",
            "Epoch 3/10\n",
            "60000/60000 [==============================] - 6s 99us/step - loss: 0.4615 - sparse_categorical_accuracy: 0.8653 - val_loss: 0.4043 - val_sparse_categorical_accuracy: 0.8776\n",
            "Epoch 4/10\n",
            "60000/60000 [==============================] - 6s 100us/step - loss: 0.4023 - sparse_categorical_accuracy: 0.8841 - val_loss: 0.3622 - val_sparse_categorical_accuracy: 0.8918\n",
            "Epoch 5/10\n",
            "60000/60000 [==============================] - 6s 100us/step - loss: 0.3609 - sparse_categorical_accuracy: 0.8968 - val_loss: 0.3296 - val_sparse_categorical_accuracy: 0.9026\n",
            "Epoch 6/10\n",
            "60000/60000 [==============================] - 6s 99us/step - loss: 0.3320 - sparse_categorical_accuracy: 0.9060 - val_loss: 0.3130 - val_sparse_categorical_accuracy: 0.9097\n",
            "Epoch 7/10\n",
            "60000/60000 [==============================] - 6s 101us/step - loss: 0.3105 - sparse_categorical_accuracy: 0.9124 - val_loss: 0.2888 - val_sparse_categorical_accuracy: 0.9148\n",
            "Epoch 8/10\n",
            "60000/60000 [==============================] - 6s 99us/step - loss: 0.2919 - sparse_categorical_accuracy: 0.9178 - val_loss: 0.2820 - val_sparse_categorical_accuracy: 0.9191\n",
            "Epoch 9/10\n",
            "60000/60000 [==============================] - 6s 98us/step - loss: 0.2774 - sparse_categorical_accuracy: 0.9222 - val_loss: 0.2671 - val_sparse_categorical_accuracy: 0.9221\n",
            "Epoch 10/10\n",
            "60000/60000 [==============================] - 6s 98us/step - loss: 0.2648 - sparse_categorical_accuracy: 0.9255 - val_loss: 0.2595 - val_sparse_categorical_accuracy: 0.9252\n"
          ],
          "name": "stdout"
        },
        {
          "output_type": "execute_result",
          "data": {
            "text/plain": [
              "<tensorflow.python.keras.callbacks.History at 0x7f4eb4386da0>"
            ]
          },
          "metadata": {
            "tags": []
          },
          "execution_count": 45
        }
      ]
    },
    {
      "metadata": {
        "id": "qTzAj4eJ_7Up",
        "colab_type": "code",
        "outputId": "0bacae54-7512-4e9e-ba14-e595f154051d",
        "colab": {
          "base_uri": "https://localhost:8080/",
          "height": 187
        }
      },
      "cell_type": "code",
      "source": [
        "pred = model.predict(x_test[:10])\n",
        "\n",
        "for l, p in list(zip(y_test, pred)):\n",
        "  print(l, p.argmax())"
      ],
      "execution_count": 0,
      "outputs": [
        {
          "output_type": "stream",
          "text": [
            "7 7\n",
            "2 2\n",
            "1 1\n",
            "0 0\n",
            "4 4\n",
            "1 1\n",
            "4 4\n",
            "9 9\n",
            "5 6\n",
            "9 9\n"
          ],
          "name": "stdout"
        }
      ]
    },
    {
      "metadata": {
        "id": "POdm3I9UA8vd",
        "colab_type": "code",
        "colab": {}
      },
      "cell_type": "code",
      "source": [
        ""
      ],
      "execution_count": 0,
      "outputs": []
    }
  ]
}