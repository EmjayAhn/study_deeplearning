{
  "nbformat": 4,
  "nbformat_minor": 0,
  "metadata": {
    "colab": {
      "name": "01_190211_1강.ipynb",
      "version": "0.3.2",
      "provenance": [],
      "collapsed_sections": [],
      "include_colab_link": true
    },
    "kernelspec": {
      "name": "python3",
      "display_name": "Python 3"
    }
  },
  "cells": [
    {
      "cell_type": "markdown",
      "metadata": {
        "id": "view-in-github",
        "colab_type": "text"
      },
      "source": [
        "<a href=\"https://colab.research.google.com/github/EmjayAhn/study_deeplearning/blob/master/01_190211_1%EA%B0%95.ipynb\" target=\"_parent\"><img src=\"https://colab.research.google.com/assets/colab-badge.svg\" alt=\"Open In Colab\"/></a>"
      ]
    },
    {
      "metadata": {
        "id": "AksoTs-a9k4Z",
        "colab_type": "code",
        "colab": {}
      },
      "cell_type": "code",
      "source": [
        "import numpy as np\n",
        "from numpy import linalg as la\n",
        "import matplotlib.pyplot as plt"
      ],
      "execution_count": 0,
      "outputs": []
    },
    {
      "metadata": {
        "id": "zigyldr5Kq5M",
        "colab_type": "text"
      },
      "cell_type": "markdown",
      "source": [
        "# Linear Algebra"
      ]
    },
    {
      "metadata": {
        "id": "_8g-7k6c9qXm",
        "colab_type": "code",
        "colab": {}
      },
      "cell_type": "code",
      "source": [
        "# A는 변환 행렬\n",
        "A = np.array([[1, 2],\n",
        "            [1, 1]])\n",
        "Aprime = np.array([[1, 1],\n",
        "                  [2, 1]])"
      ],
      "execution_count": 0,
      "outputs": []
    },
    {
      "metadata": {
        "id": "zVmbkRA89tmH",
        "colab_type": "code",
        "colab": {}
      },
      "cell_type": "code",
      "source": [
        "cloud = []\n",
        "for x in np.arange(-1, 1, 0.1):\n",
        "  for y in np.arange(-1, 1, 0.1):\n",
        "    cloud.append(np.array((x, y)))"
      ],
      "execution_count": 0,
      "outputs": []
    },
    {
      "metadata": {
        "id": "IJKjg9ZPB4gd",
        "colab_type": "code",
        "colab": {}
      },
      "cell_type": "code",
      "source": [
        "cloud"
      ],
      "execution_count": 0,
      "outputs": []
    },
    {
      "metadata": {
        "id": "v6YmijI1AMot",
        "colab_type": "code",
        "colab": {
          "base_uri": "https://localhost:8080/",
          "height": 348
        },
        "outputId": "2ad7e289-f07a-4f63-e170-e28b9fa565aa"
      },
      "cell_type": "code",
      "source": [
        "for v in cloud:\n",
        "  mat = np.dot(A, v)\n",
        "  plt.scatter([mat[0]], [mat[1]], c='r')\n",
        "  plt.scatter(v[0], v[1], c='b')\n",
        "plt.show()"
      ],
      "execution_count": 21,
      "outputs": [
        {
          "output_type": "display_data",
          "data": {
            "image/png": "[encoded data removed]",
            "text/plain": [
              "<Figure size 576x396 with 1 Axes>"
            ]
          },
          "metadata": {
            "tags": []
          }
        }
      ]
    },
    {
      "metadata": {
        "id": "_mu_qMt-BWKe",
        "colab_type": "code",
        "colab": {
          "base_uri": "https://localhost:8080/",
          "height": 348
        },
        "outputId": "6c83a2bb-f4ef-4a05-d40f-e813a4888a58"
      },
      "cell_type": "code",
      "source": [
        "for v in cloud:\n",
        "  mat_prime = np.dot(Aprime, v)\n",
        "  plt.scatter([mat_prime[0]], [mat_prime[1]], c='g')\n",
        "  plt.scatter(v[0], v[1], c='b')\n",
        "plt.show()"
      ],
      "execution_count": 15,
      "outputs": [
        {
          "output_type": "display_data",
          "data": {
            "image/png": "[encoded data removed]",
            "text/plain": [
              "<Figure size 576x396 with 1 Axes>"
            ]
          },
          "metadata": {
            "tags": []
          }
        }
      ]
    },
    {
      "metadata": {
        "id": "JvjTArk0KjVO",
        "colab_type": "text"
      },
      "cell_type": "markdown",
      "source": [
        "## Eigenvector, EigenValue"
      ]
    },
    {
      "metadata": {
        "id": "2q-kpL3dByQ-",
        "colab_type": "code",
        "colab": {}
      },
      "cell_type": "code",
      "source": [
        " from numpy import linalg as la"
      ],
      "execution_count": 0,
      "outputs": []
    },
    {
      "metadata": {
        "id": "R9w2bPnPIyaz",
        "colab_type": "code",
        "colab": {}
      },
      "cell_type": "code",
      "source": [
        "A = np.array([[1, 2],\n",
        "             [3, 4]])"
      ],
      "execution_count": 0,
      "outputs": []
    },
    {
      "metadata": {
        "id": "8lqXgC1sAYjR",
        "colab_type": "code",
        "colab": {
          "base_uri": "https://localhost:8080/",
          "height": 68
        },
        "outputId": "7a8bbf35-6827-4e60-9243-d05dd18af1f1"
      },
      "cell_type": "code",
      "source": [
        "w, v = la.eig(A)\n",
        "print(w)\n",
        "print(v)"
      ],
      "execution_count": 25,
      "outputs": [
        {
          "output_type": "stream",
          "text": [
            "[-0.37228132  5.37228132]\n",
            "[[-0.82456484 -0.41597356]\n",
            " [ 0.56576746 -0.90937671]]\n"
          ],
          "name": "stdout"
        }
      ]
    },
    {
      "metadata": {
        "id": "ie4LvcBSI3Om",
        "colab_type": "code",
        "colab": {}
      },
      "cell_type": "code",
      "source": [
        ""
      ],
      "execution_count": 0,
      "outputs": []
    }
  ]
}